{
  "cells": [
    {
      "metadata": {
        "trusted": true
      },
      "cell_type": "code",
      "source": "from tensorflow.python.keras.preprocessing.image import ImageDataGenerator\nfrom tensorflow.python.keras.models import Sequential\nfrom tensorflow.python.keras.layers import Conv2D, MaxPooling2D\nfrom tensorflow.python.keras.layers import Activation, Dropout, Flatten, Dense",
      "execution_count": 1,
      "outputs": []
    },
    {
      "metadata": {
        "trusted": true
      },
      "cell_type": "code",
      "source": "train_dir = 'train'\nval_dir = 'val'\ntest_dir = 'test'\nimg_width, img_height = 150, 150\ninput_shape = (img_width, img_height, 3)\nepochs = 20\nbatch_size = 16\nnb_train_samples = 4000\nnb_validation_samples = 600\nnb_test_samples = 600",
      "execution_count": 2,
      "outputs": []
    },
    {
      "metadata": {
        "trusted": true
      },
      "cell_type": "code",
      "source": "model = Sequential()\nmodel.add(Conv2D(32, (3, 3), input_shape=input_shape))\nmodel.add(Activation('relu'))\nmodel.add(MaxPooling2D(pool_size=(2, 2)))\n\nmodel.add(Conv2D(32, (3, 3)))\nmodel.add(Activation('relu'))\nmodel.add(MaxPooling2D(pool_size=(2, 2)))\n\nmodel.add(Conv2D(64, (3, 3)))\nmodel.add(Activation('relu'))\nmodel.add(MaxPooling2D(pool_size=(2, 2)))\n\nmodel.add(Flatten())\nmodel.add(Dense(64))\nmodel.add(Activation('relu'))\nmodel.add(Dropout(0.5))\nmodel.add(Dense(1))\nmodel.add(Activation('sigmoid'))",
      "execution_count": 3,
      "outputs": []
    },
    {
      "metadata": {
        "trusted": true
      },
      "cell_type": "code",
      "source": "model.compile(loss='binary_crossentropy',\n              optimizer='adam',\n              metrics=['accuracy'])",
      "execution_count": 4,
      "outputs": []
    },
    {
      "metadata": {
        "trusted": true
      },
      "cell_type": "code",
      "source": "datagen = ImageDataGenerator(rescale=1. / 255)",
      "execution_count": 5,
      "outputs": []
    },
    {
      "metadata": {
        "trusted": true
      },
      "cell_type": "code",
      "source": "train_generator = datagen.flow_from_directory(\n    train_dir,\n    target_size=(img_width, img_height),\n    batch_size=batch_size,\n    class_mode='binary')",
      "execution_count": 6,
      "outputs": [
        {
          "output_type": "stream",
          "text": "Found 4000 images belonging to 2 classes.\n",
          "name": "stdout"
        }
      ]
    },
    {
      "metadata": {
        "trusted": true
      },
      "cell_type": "code",
      "source": "val_generator = datagen.flow_from_directory(\n    val_dir,\n    target_size=(img_width, img_height),\n    batch_size=batch_size,\n    class_mode='binary')",
      "execution_count": 7,
      "outputs": [
        {
          "output_type": "stream",
          "text": "Found 600 images belonging to 2 classes.\n",
          "name": "stdout"
        }
      ]
    },
    {
      "metadata": {
        "trusted": true
      },
      "cell_type": "code",
      "source": "test_generator = datagen.flow_from_directory(\n    test_dir,\n    target_size=(img_width, img_height),\n    batch_size=batch_size,\n    class_mode='binary')",
      "execution_count": 8,
      "outputs": [
        {
          "output_type": "stream",
          "text": "Found 600 images belonging to 2 classes.\n",
          "name": "stdout"
        }
      ]
    },
    {
      "metadata": {
        "trusted": true
      },
      "cell_type": "code",
      "source": "model.fit_generator(\n    train_generator,\n    steps_per_epoch=nb_train_samples // batch_size,\n    epochs=epochs,\n    validation_data=val_generator,\n    validation_steps=nb_validation_samples // batch_size)",
      "execution_count": 9,
      "outputs": [
        {
          "output_type": "stream",
          "text": "Epoch 1/20\nWARNING:tensorflow:From /home/nbuser/anaconda3_501/lib/python3.6/site-packages/tensorflow/python/ops/math_grad.py:1250: add_dispatch_support.<locals>.wrapper (from tensorflow.python.ops.array_ops) is deprecated and will be removed in a future version.\nInstructions for updating:\nUse tf.where in 2.0, which has the same broadcast rule as np.where\n250/250 [==============================] - 712s 3s/step - loss: 0.5468 - accuracy: 0.7283 - val_loss: 0.4302 - val_accuracy: 0.8632\nEpoch 2/20\n250/250 [==============================] - 609s 2s/step - loss: 0.3384 - accuracy: 0.9005 - val_loss: 0.3080 - val_accuracy: 0.8834\nEpoch 3/20\n250/250 [==============================] - 601s 2s/step - loss: 0.2647 - accuracy: 0.9175 - val_loss: 0.8911 - val_accuracy: 0.9105\nEpoch 4/20\n250/250 [==============================] - 659s 3s/step - loss: 0.2575 - accuracy: 0.9245 - val_loss: 0.9186 - val_accuracy: 0.9037\nEpoch 5/20\n250/250 [==============================] - 620s 2s/step - loss: 0.2200 - accuracy: 0.9388 - val_loss: 0.8298 - val_accuracy: 0.9139\nEpoch 6/20\n250/250 [==============================] - 565s 2s/step - loss: 0.1810 - accuracy: 0.9488 - val_loss: 0.5129 - val_accuracy: 0.9206\nEpoch 7/20\n250/250 [==============================] - 586s 2s/step - loss: 0.1622 - accuracy: 0.9622 - val_loss: 0.7174 - val_accuracy: 0.9003\nEpoch 8/20\n250/250 [==============================] - 548s 2s/step - loss: 0.1600 - accuracy: 0.9622 - val_loss: 0.6126 - val_accuracy: 0.9020\nEpoch 9/20\n250/250 [==============================] - 603s 2s/step - loss: 0.1264 - accuracy: 0.9705 - val_loss: 0.6806 - val_accuracy: 0.8936\nEpoch 10/20\n250/250 [==============================] - 659s 3s/step - loss: 0.1083 - accuracy: 0.9753 - val_loss: 0.5011 - val_accuracy: 0.9139\nEpoch 11/20\n250/250 [==============================] - 693s 3s/step - loss: 0.0574 - accuracy: 0.9835 - val_loss: 0.4130 - val_accuracy: 0.9088\nEpoch 12/20\n250/250 [==============================] - 562s 2s/step - loss: 0.0436 - accuracy: 0.9902 - val_loss: 0.4382 - val_accuracy: 0.9139\nEpoch 13/20\n250/250 [==============================] - 664s 3s/step - loss: 0.0321 - accuracy: 0.9905 - val_loss: 0.4310 - val_accuracy: 0.9071\nEpoch 14/20\n250/250 [==============================] - 690s 3s/step - loss: 0.0271 - accuracy: 0.9930 - val_loss: 0.5164 - val_accuracy: 0.9172\nEpoch 15/20\n250/250 [==============================] - 573s 2s/step - loss: 0.0303 - accuracy: 0.9930 - val_loss: 0.4577 - val_accuracy: 0.9122\nEpoch 16/20\n250/250 [==============================] - 565s 2s/step - loss: 0.0214 - accuracy: 0.9942 - val_loss: 0.4215 - val_accuracy: 0.9291\nEpoch 17/20\n250/250 [==============================] - 603s 2s/step - loss: 0.0154 - accuracy: 0.9955 - val_loss: 0.4333 - val_accuracy: 0.9189\nEpoch 18/20\n250/250 [==============================] - 559s 2s/step - loss: 0.0241 - accuracy: 0.9958 - val_loss: 0.5822 - val_accuracy: 0.9003\nEpoch 19/20\n250/250 [==============================] - 546s 2s/step - loss: 0.0162 - accuracy: 0.9952 - val_loss: 0.5080 - val_accuracy: 0.9155\nEpoch 20/20\n250/250 [==============================] - 504s 2s/step - loss: 0.0114 - accuracy: 0.9965 - val_loss: 0.5503 - val_accuracy: 0.9071\n",
          "name": "stdout"
        },
        {
          "output_type": "execute_result",
          "execution_count": 9,
          "data": {
            "text/plain": "<tensorflow.python.keras.callbacks.History at 0x7f5a2c0400b8>"
          },
          "metadata": {}
        }
      ]
    },
    {
      "metadata": {
        "trusted": true
      },
      "cell_type": "code",
      "source": "scores = model.evaluate_generator(test_generator, nb_test_samples // batch_size)",
      "execution_count": 10,
      "outputs": []
    },
    {
      "metadata": {
        "trusted": true
      },
      "cell_type": "code",
      "source": "print(\"Accuracy: %.2f%%\" % (scores[1]*100))",
      "execution_count": 11,
      "outputs": [
        {
          "output_type": "stream",
          "text": "Accuracy: 93.41%\n",
          "name": "stdout"
        }
      ]
    },
    {
      "metadata": {
        "trusted": true
      },
      "cell_type": "code",
      "source": "import pandas as pd ",
      "execution_count": 12,
      "outputs": []
    },
    {
      "metadata": {
        "trusted": true
      },
      "cell_type": "code",
      "source": "model.to_json()",
      "execution_count": 13,
      "outputs": [
        {
          "output_type": "execute_result",
          "execution_count": 13,
          "data": {
            "text/plain": "'{\"class_name\": \"Sequential\", \"config\": {\"name\": \"sequential\", \"layers\": [{\"class_name\": \"Conv2D\", \"config\": {\"name\": \"conv2d\", \"trainable\": true, \"batch_input_shape\": [null, 150, 150, 3], \"dtype\": \"float32\", \"filters\": 32, \"kernel_size\": [3, 3], \"strides\": [1, 1], \"padding\": \"valid\", \"data_format\": \"channels_last\", \"dilation_rate\": [1, 1], \"activation\": \"linear\", \"use_bias\": true, \"kernel_initializer\": {\"class_name\": \"GlorotUniform\", \"config\": {\"seed\": null}}, \"bias_initializer\": {\"class_name\": \"Zeros\", \"config\": {}}, \"kernel_regularizer\": null, \"bias_regularizer\": null, \"activity_regularizer\": null, \"kernel_constraint\": null, \"bias_constraint\": null}}, {\"class_name\": \"Activation\", \"config\": {\"name\": \"activation\", \"trainable\": true, \"dtype\": \"float32\", \"activation\": \"relu\"}}, {\"class_name\": \"MaxPooling2D\", \"config\": {\"name\": \"max_pooling2d\", \"trainable\": true, \"dtype\": \"float32\", \"pool_size\": [2, 2], \"padding\": \"valid\", \"strides\": [2, 2], \"data_format\": \"channels_last\"}}, {\"class_name\": \"Conv2D\", \"config\": {\"name\": \"conv2d_1\", \"trainable\": true, \"dtype\": \"float32\", \"filters\": 32, \"kernel_size\": [3, 3], \"strides\": [1, 1], \"padding\": \"valid\", \"data_format\": \"channels_last\", \"dilation_rate\": [1, 1], \"activation\": \"linear\", \"use_bias\": true, \"kernel_initializer\": {\"class_name\": \"GlorotUniform\", \"config\": {\"seed\": null}}, \"bias_initializer\": {\"class_name\": \"Zeros\", \"config\": {}}, \"kernel_regularizer\": null, \"bias_regularizer\": null, \"activity_regularizer\": null, \"kernel_constraint\": null, \"bias_constraint\": null}}, {\"class_name\": \"Activation\", \"config\": {\"name\": \"activation_1\", \"trainable\": true, \"dtype\": \"float32\", \"activation\": \"relu\"}}, {\"class_name\": \"MaxPooling2D\", \"config\": {\"name\": \"max_pooling2d_1\", \"trainable\": true, \"dtype\": \"float32\", \"pool_size\": [2, 2], \"padding\": \"valid\", \"strides\": [2, 2], \"data_format\": \"channels_last\"}}, {\"class_name\": \"Conv2D\", \"config\": {\"name\": \"conv2d_2\", \"trainable\": true, \"dtype\": \"float32\", \"filters\": 64, \"kernel_size\": [3, 3], \"strides\": [1, 1], \"padding\": \"valid\", \"data_format\": \"channels_last\", \"dilation_rate\": [1, 1], \"activation\": \"linear\", \"use_bias\": true, \"kernel_initializer\": {\"class_name\": \"GlorotUniform\", \"config\": {\"seed\": null}}, \"bias_initializer\": {\"class_name\": \"Zeros\", \"config\": {}}, \"kernel_regularizer\": null, \"bias_regularizer\": null, \"activity_regularizer\": null, \"kernel_constraint\": null, \"bias_constraint\": null}}, {\"class_name\": \"Activation\", \"config\": {\"name\": \"activation_2\", \"trainable\": true, \"dtype\": \"float32\", \"activation\": \"relu\"}}, {\"class_name\": \"MaxPooling2D\", \"config\": {\"name\": \"max_pooling2d_2\", \"trainable\": true, \"dtype\": \"float32\", \"pool_size\": [2, 2], \"padding\": \"valid\", \"strides\": [2, 2], \"data_format\": \"channels_last\"}}, {\"class_name\": \"Flatten\", \"config\": {\"name\": \"flatten\", \"trainable\": true, \"dtype\": \"float32\", \"data_format\": \"channels_last\"}}, {\"class_name\": \"Dense\", \"config\": {\"name\": \"dense\", \"trainable\": true, \"dtype\": \"float32\", \"units\": 64, \"activation\": \"linear\", \"use_bias\": true, \"kernel_initializer\": {\"class_name\": \"GlorotUniform\", \"config\": {\"seed\": null}}, \"bias_initializer\": {\"class_name\": \"Zeros\", \"config\": {}}, \"kernel_regularizer\": null, \"bias_regularizer\": null, \"activity_regularizer\": null, \"kernel_constraint\": null, \"bias_constraint\": null}}, {\"class_name\": \"Activation\", \"config\": {\"name\": \"activation_3\", \"trainable\": true, \"dtype\": \"float32\", \"activation\": \"relu\"}}, {\"class_name\": \"Dropout\", \"config\": {\"name\": \"dropout\", \"trainable\": true, \"dtype\": \"float32\", \"rate\": 0.5, \"noise_shape\": null, \"seed\": null}}, {\"class_name\": \"Dense\", \"config\": {\"name\": \"dense_1\", \"trainable\": true, \"dtype\": \"float32\", \"units\": 1, \"activation\": \"linear\", \"use_bias\": true, \"kernel_initializer\": {\"class_name\": \"GlorotUniform\", \"config\": {\"seed\": null}}, \"bias_initializer\": {\"class_name\": \"Zeros\", \"config\": {}}, \"kernel_regularizer\": null, \"bias_regularizer\": null, \"activity_regularizer\": null, \"kernel_constraint\": null, \"bias_constraint\": null}}, {\"class_name\": \"Activation\", \"config\": {\"name\": \"activation_4\", \"trainable\": true, \"dtype\": \"float32\", \"activation\": \"sigmoid\"}}]}, \"keras_version\": \"2.2.4-tf\", \"backend\": \"tensorflow\"}'"
          },
          "metadata": {}
        }
      ]
    },
    {
      "metadata": {
        "trusted": true
      },
      "cell_type": "code",
      "source": "model.save_weights(\"cnn.h5\")",
      "execution_count": 1,
      "outputs": [
        {
          "output_type": "error",
          "ename": "NameError",
          "evalue": "name 'model' is not defined",
          "traceback": [
            "\u001b[0;31m---------------------------------------------------------------------------\u001b[0m",
            "\u001b[0;31mNameError\u001b[0m                                 Traceback (most recent call last)",
            "\u001b[0;32m<ipython-input-1-0854fd51799e>\u001b[0m in \u001b[0;36m<module>\u001b[0;34m\u001b[0m\n\u001b[0;32m----> 1\u001b[0;31m \u001b[0mmodel\u001b[0m\u001b[0;34m.\u001b[0m\u001b[0msave_weights\u001b[0m\u001b[0;34m(\u001b[0m\u001b[0;34m\"cnn.h5\"\u001b[0m\u001b[0;34m)\u001b[0m\u001b[0;34m\u001b[0m\u001b[0m\n\u001b[0m",
            "\u001b[0;31mNameError\u001b[0m: name 'model' is not defined"
          ]
        }
      ]
    },
    {
      "metadata": {
        "trusted": true
      },
      "cell_type": "code",
      "source": "",
      "execution_count": null,
      "outputs": []
    }
  ],
  "metadata": {
    "kernelspec": {
      "name": "python36",
      "display_name": "Python 3.6",
      "language": "python"
    },
    "language_info": {
      "mimetype": "text/x-python",
      "nbconvert_exporter": "python",
      "name": "python",
      "pygments_lexer": "ipython3",
      "version": "3.6.6",
      "file_extension": ".py",
      "codemirror_mode": {
        "version": 3,
        "name": "ipython"
      }
    }
  },
  "nbformat": 4,
  "nbformat_minor": 2
}