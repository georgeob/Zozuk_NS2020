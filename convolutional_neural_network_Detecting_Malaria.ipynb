{
  "cells": [
    {
      "metadata": {
        "trusted": true
      },
      "cell_type": "code",
      "source": "from tensorflow.python.keras.preprocessing.image import ImageDataGenerator\nfrom tensorflow.python.keras.models import Sequential\nfrom tensorflow.python.keras.layers import Conv2D, MaxPooling2D\nfrom tensorflow.python.keras.layers import Activation, Dropout, Flatten, Dense",
      "execution_count": 1,
      "outputs": []
    },
    {
      "metadata": {
        "trusted": true
      },
      "cell_type": "code",
      "source": "train_dir = 'train'\n# Zložka s údajmi na kontrolu\nval_dir = 'val'\n# Zložka s údajmi na testovanie\ntest_dir = 'test'\n# Veľkosti obrázkov\nimg_width, img_height = 150, 150\n# Tenzorový rozmer založeny na obrázkoch pre vstup do neurónovej siete \n# backend Tensorflow, channels_last\ninput_shape = (img_width, img_height, 3)\n# Počet období\nepochs = 30\n# Veľkosť mini vzorky\nbatch_size = 16\n# Počet obrázkov na tréning\nnb_train_samples = 4000\n# Počet obrázkov na kontrolu\nnb_validation_samples = 600\n# Počet obrázkov na testovanie\nnb_test_samples = 600",
      "execution_count": 2,
      "outputs": []
    },
    {
      "metadata": {
        "trusted": true
      },
      "cell_type": "code",
      "source": "# Build convolutional neural network\n\nmodel = Sequential()\nmodel.add(Conv2D(32, (3, 3), input_shape=input_shape))\nmodel.add(Activation('relu'))\nmodel.add(MaxPooling2D(pool_size=(2, 2)))\n\nmodel.add(Conv2D(32, (3, 3)))\nmodel.add(Activation('relu'))\nmodel.add(MaxPooling2D(pool_size=(2, 2)))\n\nmodel.add(Conv2D(64, (3, 3)))\nmodel.add(Activation('relu'))\nmodel.add(MaxPooling2D(pool_size=(2, 2)))\n\nmodel.add(Flatten())\nmodel.add(Dense(64))\nmodel.add(Activation('relu'))\nmodel.add(Dropout(0.5))\nmodel.add(Dense(1))\nmodel.add(Activation('sigmoid'))",
      "execution_count": 3,
      "outputs": []
    },
    {
      "metadata": {
        "trusted": true
      },
      "cell_type": "code",
      "source": "model.compile(loss='binary_crossentropy',\n              optimizer='adam',\n              metrics=['accuracy'])",
      "execution_count": 4,
      "outputs": []
    },
    {
      "metadata": {
        "trusted": true
      },
      "cell_type": "code",
      "source": "#Generátor obrázkov\ndatagen = ImageDataGenerator(rescale=1. / 255)",
      "execution_count": 5,
      "outputs": []
    },
    {
      "metadata": {
        "trusted": true
      },
      "cell_type": "code",
      "source": "train_generator = datagen.flow_from_directory(\n    train_dir,\n    target_size=(img_width, img_height),\n    batch_size=batch_size,\n    class_mode='binary')",
      "execution_count": 6,
      "outputs": [
        {
          "output_type": "stream",
          "text": "Found 4000 images belonging to 2 classes.\n",
          "name": "stdout"
        }
      ]
    },
    {
      "metadata": {
        "trusted": true
      },
      "cell_type": "code",
      "source": "val_generator = datagen.flow_from_directory(\n    val_dir,\n    target_size=(img_width, img_height),\n    batch_size=batch_size,\n    class_mode='binary')",
      "execution_count": 7,
      "outputs": [
        {
          "output_type": "stream",
          "text": "Found 600 images belonging to 2 classes.\n",
          "name": "stdout"
        }
      ]
    },
    {
      "metadata": {
        "trusted": true
      },
      "cell_type": "code",
      "source": "test_generator = datagen.flow_from_directory(\n    test_dir,\n    target_size=(img_width, img_height),\n    batch_size=batch_size,\n    class_mode='binary')",
      "execution_count": 8,
      "outputs": [
        {
          "output_type": "stream",
          "text": "Found 600 images belonging to 2 classes.\n",
          "name": "stdout"
        }
      ]
    },
    {
      "metadata": {
        "trusted": true
      },
      "cell_type": "code",
      "source": "#Naučenie modelu pomocou generátorov\nmodel.fit_generator(\n    train_generator,\n    steps_per_epoch=nb_train_samples // batch_size,\n    epochs=epochs,\n    validation_data=val_generator,\n    validation_steps=nb_validation_samples // batch_size)",
      "execution_count": 9,
      "outputs": [
        {
          "output_type": "stream",
          "text": "Epoch 1/30\nWARNING:tensorflow:From /home/nbuser/anaconda3_501/lib/python3.6/site-packages/tensorflow/python/ops/math_grad.py:1250: add_dispatch_support.<locals>.wrapper (from tensorflow.python.ops.array_ops) is deprecated and will be removed in a future version.\nInstructions for updating:\nUse tf.where in 2.0, which has the same broadcast rule as np.where\n250/250 [==============================] - 599s 2s/step - loss: 0.5695 - accuracy: 0.7053 - val_loss: 1.2728 - val_accuracy: 0.8209\nEpoch 2/30\n250/250 [==============================] - 458s 2s/step - loss: 0.3132 - accuracy: 0.9000 - val_loss: 0.4387 - val_accuracy: 0.9172\nEpoch 3/30\n250/250 [==============================] - 499s 2s/step - loss: 0.2598 - accuracy: 0.9235 - val_loss: 0.3189 - val_accuracy: 0.9003\nEpoch 4/30\n250/250 [==============================] - 458s 2s/step - loss: 0.2315 - accuracy: 0.9273 - val_loss: 0.3985 - val_accuracy: 0.9206\nEpoch 5/30\n250/250 [==============================] - 537s 2s/step - loss: 0.2315 - accuracy: 0.9287 - val_loss: 0.3507 - val_accuracy: 0.9206\nEpoch 6/30\n250/250 [==============================] - 487s 2s/step - loss: 0.1879 - accuracy: 0.9408 - val_loss: 0.3504 - val_accuracy: 0.9155\nEpoch 7/30\n250/250 [==============================] - 494s 2s/step - loss: 0.1456 - accuracy: 0.9517 - val_loss: 0.2977 - val_accuracy: 0.9020\nEpoch 8/30\n250/250 [==============================] - 501s 2s/step - loss: 0.1097 - accuracy: 0.9647 - val_loss: 0.2862 - val_accuracy: 0.9139\nEpoch 9/30\n250/250 [==============================] - 471s 2s/step - loss: 0.0829 - accuracy: 0.9750 - val_loss: 0.2552 - val_accuracy: 0.9189\nEpoch 10/30\n250/250 [==============================] - 508s 2s/step - loss: 0.0697 - accuracy: 0.9797 - val_loss: 0.4104 - val_accuracy: 0.9003\nEpoch 11/30\n250/250 [==============================] - 493s 2s/step - loss: 0.0569 - accuracy: 0.9825 - val_loss: 0.3874 - val_accuracy: 0.9172\nEpoch 12/30\n250/250 [==============================] - 490s 2s/step - loss: 0.0385 - accuracy: 0.9883 - val_loss: 0.3452 - val_accuracy: 0.9257\nEpoch 13/30\n250/250 [==============================] - 476s 2s/step - loss: 0.0433 - accuracy: 0.9860 - val_loss: 0.3078 - val_accuracy: 0.9341\nEpoch 14/30\n250/250 [==============================] - 493s 2s/step - loss: 0.0323 - accuracy: 0.9923 - val_loss: 0.2832 - val_accuracy: 0.9307\nEpoch 15/30\n250/250 [==============================] - 466s 2s/step - loss: 0.0291 - accuracy: 0.9900 - val_loss: 0.3221 - val_accuracy: 0.9409\nEpoch 16/30\n250/250 [==============================] - 436s 2s/step - loss: 0.0290 - accuracy: 0.9915 - val_loss: 0.3376 - val_accuracy: 0.9341\nEpoch 17/30\n250/250 [==============================] - 407s 2s/step - loss: 0.0236 - accuracy: 0.9935 - val_loss: 0.4586 - val_accuracy: 0.9155\nEpoch 18/30\n250/250 [==============================] - 432s 2s/step - loss: 0.0298 - accuracy: 0.9937 - val_loss: 0.3119 - val_accuracy: 0.9341\nEpoch 19/30\n250/250 [==============================] - 489s 2s/step - loss: 0.0102 - accuracy: 0.9977 - val_loss: 0.5953 - val_accuracy: 0.9307\nEpoch 20/30\n250/250 [==============================] - 401s 2s/step - loss: 0.0198 - accuracy: 0.9962 - val_loss: 0.3396 - val_accuracy: 0.9375\nEpoch 21/30\n250/250 [==============================] - 464s 2s/step - loss: 0.0126 - accuracy: 0.9970 - val_loss: 0.5330 - val_accuracy: 0.9122\nEpoch 22/30\n250/250 [==============================] - 493s 2s/step - loss: 0.0119 - accuracy: 0.9950 - val_loss: 0.4191 - val_accuracy: 0.9307\nEpoch 23/30\n250/250 [==============================] - 445s 2s/step - loss: 0.0133 - accuracy: 0.9967 - val_loss: 0.3884 - val_accuracy: 0.9324\nEpoch 24/30\n250/250 [==============================] - 455s 2s/step - loss: 0.0076 - accuracy: 0.9967 - val_loss: 0.5077 - val_accuracy: 0.9206\nEpoch 25/30\n250/250 [==============================] - 456s 2s/step - loss: 0.0053 - accuracy: 0.9983 - val_loss: 0.5506 - val_accuracy: 0.9324\nEpoch 26/30\n250/250 [==============================] - 507s 2s/step - loss: 0.0064 - accuracy: 0.9985 - val_loss: 0.3521 - val_accuracy: 0.9341\nEpoch 27/30\n250/250 [==============================] - 461s 2s/step - loss: 0.0174 - accuracy: 0.9948 - val_loss: 0.5044 - val_accuracy: 0.9409\nEpoch 28/30\n250/250 [==============================] - 455s 2s/step - loss: 0.0169 - accuracy: 0.9942 - val_loss: 0.3992 - val_accuracy: 0.9392\nEpoch 29/30\n250/250 [==============================] - 433s 2s/step - loss: 0.0178 - accuracy: 0.9945 - val_loss: 0.4444 - val_accuracy: 0.9409\nEpoch 30/30\n250/250 [==============================] - 501s 2s/step - loss: 0.0071 - accuracy: 0.9977 - val_loss: 0.4923 - val_accuracy: 0.9375\n",
          "name": "stdout"
        },
        {
          "output_type": "execute_result",
          "execution_count": 9,
          "data": {
            "text/plain": "<tensorflow.python.keras.callbacks.History at 0x7f50701c3ba8>"
          },
          "metadata": {}
        }
      ]
    },
    {
      "metadata": {
        "trusted": true
      },
      "cell_type": "code",
      "source": "scores = model.evaluate_generator(test_generator, nb_test_samples // batch_size)",
      "execution_count": 10,
      "outputs": []
    },
    {
      "metadata": {
        "trusted": true
      },
      "cell_type": "code",
      "source": "print(\"Accuracy: %.2f%%\" % (scores[1]*100))",
      "execution_count": 11,
      "outputs": [
        {
          "output_type": "stream",
          "text": "Accuracy: 95.44%\n",
          "name": "stdout"
        }
      ]
    },
    {
      "metadata": {
        "trusted": true
      },
      "cell_type": "code",
      "source": "",
      "execution_count": null,
      "outputs": []
    }
  ],
  "metadata": {
    "kernelspec": {
      "name": "python36",
      "display_name": "Python 3.6",
      "language": "python"
    },
    "language_info": {
      "mimetype": "text/x-python",
      "nbconvert_exporter": "python",
      "name": "python",
      "pygments_lexer": "ipython3",
      "version": "3.6.6",
      "file_extension": ".py",
      "codemirror_mode": {
        "version": 3,
        "name": "ipython"
      }
    }
  },
  "nbformat": 4,
  "nbformat_minor": 2
}