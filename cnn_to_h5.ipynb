{
  "cells": [
    {
      "metadata": {
        "trusted": true
      },
      "cell_type": "code",
      "source": "from tensorflow.python.keras.preprocessing.image import ImageDataGenerator\nfrom tensorflow.python.keras.models import Sequential\nfrom tensorflow.python.keras.layers import Conv2D, MaxPooling2D\nfrom tensorflow.python.keras.layers import Activation, Dropout, Flatten, Dense",
      "execution_count": 9,
      "outputs": []
    },
    {
      "metadata": {
        "trusted": true
      },
      "cell_type": "code",
      "source": "train_dir = 'train'\nval_dir = 'val'\ntest_dir = 'test'\nimg_width, img_height = 150, 150\ninput_shape = (img_width, img_height, 3)\nepochs = 5\nbatch_size = 16\nnb_train_samples = 4000\nnb_validation_samples = 600\nnb_test_samples = 600",
      "execution_count": 10,
      "outputs": []
    },
    {
      "metadata": {
        "trusted": true
      },
      "cell_type": "code",
      "source": "model = Sequential()\nmodel.add(Conv2D(32, (3, 3), input_shape=input_shape))\nmodel.add(Activation('relu'))\nmodel.add(MaxPooling2D(pool_size=(2, 2)))\n\nmodel.add(Conv2D(32, (3, 3)))\nmodel.add(Activation('relu'))\nmodel.add(MaxPooling2D(pool_size=(2, 2)))\n\nmodel.add(Conv2D(64, (3, 3)))\nmodel.add(Activation('relu'))\nmodel.add(MaxPooling2D(pool_size=(2, 2)))\n\nmodel.add(Flatten())\nmodel.add(Dense(64))\nmodel.add(Activation('relu'))\nmodel.add(Dropout(0.5))\nmodel.add(Dense(1))\nmodel.add(Activation('sigmoid'))",
      "execution_count": 11,
      "outputs": []
    },
    {
      "metadata": {
        "trusted": true
      },
      "cell_type": "code",
      "source": "model.compile(loss='binary_crossentropy',\n              optimizer='adam',\n              metrics=['accuracy'])",
      "execution_count": 12,
      "outputs": []
    },
    {
      "metadata": {
        "trusted": true
      },
      "cell_type": "code",
      "source": "datagen = ImageDataGenerator(rescale=1. / 255)",
      "execution_count": 13,
      "outputs": []
    },
    {
      "metadata": {
        "trusted": true
      },
      "cell_type": "code",
      "source": "train_generator = datagen.flow_from_directory(\n    train_dir,\n    target_size=(img_width, img_height),\n    batch_size=batch_size,\n    class_mode='binary')",
      "execution_count": 14,
      "outputs": [
        {
          "output_type": "stream",
          "text": "Found 4000 images belonging to 2 classes.\n",
          "name": "stdout"
        }
      ]
    },
    {
      "metadata": {
        "trusted": true
      },
      "cell_type": "code",
      "source": "val_generator = datagen.flow_from_directory(\n    val_dir,\n    target_size=(img_width, img_height),\n    batch_size=batch_size,\n    class_mode='binary')",
      "execution_count": 15,
      "outputs": [
        {
          "output_type": "stream",
          "text": "Found 600 images belonging to 2 classes.\n",
          "name": "stdout"
        }
      ]
    },
    {
      "metadata": {
        "trusted": true
      },
      "cell_type": "code",
      "source": "test_generator = datagen.flow_from_directory(\n    test_dir,\n    target_size=(img_width, img_height),\n    batch_size=batch_size,\n    class_mode='binary')",
      "execution_count": 16,
      "outputs": [
        {
          "output_type": "stream",
          "text": "Found 600 images belonging to 2 classes.\n",
          "name": "stdout"
        }
      ]
    },
    {
      "metadata": {
        "trusted": true
      },
      "cell_type": "code",
      "source": "model.fit_generator(\n    train_generator,\n    steps_per_epoch=nb_train_samples // batch_size,\n    epochs=epochs,\n    validation_data=val_generator,\n    validation_steps=nb_validation_samples // batch_size)",
      "execution_count": 17,
      "outputs": [
        {
          "output_type": "stream",
          "text": "Epoch 1/5\nWARNING:tensorflow:From /home/nbuser/anaconda3_501/lib/python3.6/site-packages/tensorflow/python/ops/math_grad.py:1250: add_dispatch_support.<locals>.wrapper (from tensorflow.python.ops.array_ops) is deprecated and will be removed in a future version.\nInstructions for updating:\nUse tf.where in 2.0, which has the same broadcast rule as np.where\n250/250 [==============================] - 547s 2s/step - loss: 0.5450 - accuracy: 0.7218 - val_loss: 0.5799 - val_accuracy: 0.8125\nEpoch 2/5\n250/250 [==============================] - 441s 2s/step - loss: 0.3501 - accuracy: 0.8985 - val_loss: 0.4328 - val_accuracy: 0.9139\nEpoch 3/5\n250/250 [==============================] - 428s 2s/step - loss: 0.2764 - accuracy: 0.9122 - val_loss: 0.4161 - val_accuracy: 0.9189\nEpoch 4/5\n250/250 [==============================] - 434s 2s/step - loss: 0.2564 - accuracy: 0.9140 - val_loss: 0.4181 - val_accuracy: 0.9206\nEpoch 5/5\n250/250 [==============================] - 427s 2s/step - loss: 0.2017 - accuracy: 0.9358 - val_loss: 0.3904 - val_accuracy: 0.9155\n",
          "name": "stdout"
        },
        {
          "output_type": "execute_result",
          "execution_count": 17,
          "data": {
            "text/plain": "<tensorflow.python.keras.callbacks.History at 0x7f70a03487b8>"
          },
          "metadata": {}
        }
      ]
    },
    {
      "metadata": {
        "trusted": true
      },
      "cell_type": "code",
      "source": "scores = model.evaluate_generator(test_generator, nb_test_samples // batch_size)",
      "execution_count": 18,
      "outputs": []
    },
    {
      "metadata": {
        "trusted": true
      },
      "cell_type": "code",
      "source": "print(\"Accuracy: %.2f%%\" % (scores[1]*100))",
      "execution_count": 19,
      "outputs": [
        {
          "output_type": "stream",
          "text": "Accuracy: 94.09%\n",
          "name": "stdout"
        }
      ]
    },
    {
      "metadata": {
        "trusted": true
      },
      "cell_type": "code",
      "source": "import pandas as pd",
      "execution_count": 20,
      "outputs": []
    },
    {
      "metadata": {
        "trusted": true
      },
      "cell_type": "code",
      "source": "model.save_weights(\"cnn.h5\")",
      "execution_count": 21,
      "outputs": []
    },
    {
      "metadata": {
        "trusted": true
      },
      "cell_type": "code",
      "source": "",
      "execution_count": null,
      "outputs": []
    }
  ],
  "metadata": {
    "kernelspec": {
      "name": "python36",
      "display_name": "Python 3.6",
      "language": "python"
    },
    "language_info": {
      "mimetype": "text/x-python",
      "nbconvert_exporter": "python",
      "name": "python",
      "pygments_lexer": "ipython3",
      "version": "3.6.6",
      "file_extension": ".py",
      "codemirror_mode": {
        "version": 3,
        "name": "ipython"
      }
    }
  },
  "nbformat": 4,
  "nbformat_minor": 2
}